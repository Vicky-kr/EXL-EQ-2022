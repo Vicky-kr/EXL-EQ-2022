{
 "cells": [
  {
   "cell_type": "code",
   "execution_count": 31,
   "metadata": {
    "id": "yyxmQJEDdgJd"
   },
   "outputs": [],
   "source": [
    "import numpy as np\n",
    "import pandas as pd\n",
    "import matplotlib.pyplot as plt\n",
    "import seaborn as sns\n",
    "%matplotlib inline"
   ]
  },
  {
   "cell_type": "code",
   "execution_count": 32,
   "metadata": {
    "id": "wOKnvgTnBsok"
   },
   "outputs": [],
   "source": [
    "df = pd.read_excel('Historical_data.xlsx')"
   ]
  },
  {
   "cell_type": "code",
   "execution_count": 33,
   "metadata": {
    "id": "qzhPAcIMB2Qj"
   },
   "outputs": [],
   "source": [
    "df2 = df"
   ]
  },
  {
   "cell_type": "code",
   "execution_count": 34,
   "metadata": {
    "colab": {
     "base_uri": "https://localhost:8080/",
     "height": 268
    },
    "id": "9Mjho5wEB7hi",
    "outputId": "33cba99e-8a89-4555-a5b4-fbf661393607"
   },
   "outputs": [
    {
     "data": {
      "text/html": [
       "<div>\n",
       "<style scoped>\n",
       "    .dataframe tbody tr th:only-of-type {\n",
       "        vertical-align: middle;\n",
       "    }\n",
       "\n",
       "    .dataframe tbody tr th {\n",
       "        vertical-align: top;\n",
       "    }\n",
       "\n",
       "    .dataframe thead th {\n",
       "        text-align: right;\n",
       "    }\n",
       "</style>\n",
       "<table border=\"1\" class=\"dataframe\">\n",
       "  <thead>\n",
       "    <tr style=\"text-align: right;\">\n",
       "      <th></th>\n",
       "      <th>customer_id</th>\n",
       "      <th>customer_age</th>\n",
       "      <th>job_type</th>\n",
       "      <th>marital</th>\n",
       "      <th>education</th>\n",
       "      <th>default</th>\n",
       "      <th>balance</th>\n",
       "      <th>housing_loan</th>\n",
       "      <th>personal_loan</th>\n",
       "      <th>communication_type</th>\n",
       "      <th>day_of_month</th>\n",
       "      <th>month</th>\n",
       "      <th>last_contact_duration</th>\n",
       "      <th>num_contacts_in_campaign</th>\n",
       "      <th>num_contacts_prev_campaign</th>\n",
       "      <th>prev_campaign_outcome</th>\n",
       "      <th>term_deposit_subscribed</th>\n",
       "    </tr>\n",
       "  </thead>\n",
       "  <tbody>\n",
       "    <tr>\n",
       "      <th>0</th>\n",
       "      <td>id_32289</td>\n",
       "      <td>34.0</td>\n",
       "      <td>blue-collar</td>\n",
       "      <td>married</td>\n",
       "      <td>secondary</td>\n",
       "      <td>no</td>\n",
       "      <td>934.0</td>\n",
       "      <td>no</td>\n",
       "      <td>yes</td>\n",
       "      <td>cellular</td>\n",
       "      <td>18</td>\n",
       "      <td>nov</td>\n",
       "      <td>704</td>\n",
       "      <td>2.0</td>\n",
       "      <td>1</td>\n",
       "      <td>other</td>\n",
       "      <td>0</td>\n",
       "    </tr>\n",
       "    <tr>\n",
       "      <th>1</th>\n",
       "      <td>id_40992</td>\n",
       "      <td>41.0</td>\n",
       "      <td>blue-collar</td>\n",
       "      <td>married</td>\n",
       "      <td>primary</td>\n",
       "      <td>no</td>\n",
       "      <td>1352.0</td>\n",
       "      <td>yes</td>\n",
       "      <td>no</td>\n",
       "      <td>cellular</td>\n",
       "      <td>13</td>\n",
       "      <td>may</td>\n",
       "      <td>893</td>\n",
       "      <td>2.0</td>\n",
       "      <td>0</td>\n",
       "      <td>unknown</td>\n",
       "      <td>0</td>\n",
       "    </tr>\n",
       "    <tr>\n",
       "      <th>2</th>\n",
       "      <td>id_41178</td>\n",
       "      <td>57.0</td>\n",
       "      <td>blue-collar</td>\n",
       "      <td>married</td>\n",
       "      <td>primary</td>\n",
       "      <td>no</td>\n",
       "      <td>495.0</td>\n",
       "      <td>no</td>\n",
       "      <td>no</td>\n",
       "      <td>cellular</td>\n",
       "      <td>18</td>\n",
       "      <td>aug</td>\n",
       "      <td>796</td>\n",
       "      <td>4.0</td>\n",
       "      <td>0</td>\n",
       "      <td>unknown</td>\n",
       "      <td>1</td>\n",
       "    </tr>\n",
       "    <tr>\n",
       "      <th>3</th>\n",
       "      <td>id_35102</td>\n",
       "      <td>37.0</td>\n",
       "      <td>management</td>\n",
       "      <td>married</td>\n",
       "      <td>tertiary</td>\n",
       "      <td>no</td>\n",
       "      <td>650.0</td>\n",
       "      <td>yes</td>\n",
       "      <td>NaN</td>\n",
       "      <td>unknown</td>\n",
       "      <td>26</td>\n",
       "      <td>may</td>\n",
       "      <td>880</td>\n",
       "      <td>1.0</td>\n",
       "      <td>0</td>\n",
       "      <td>unknown</td>\n",
       "      <td>0</td>\n",
       "    </tr>\n",
       "    <tr>\n",
       "      <th>4</th>\n",
       "      <td>id_34750</td>\n",
       "      <td>29.0</td>\n",
       "      <td>technician</td>\n",
       "      <td>married</td>\n",
       "      <td>secondary</td>\n",
       "      <td>no</td>\n",
       "      <td>265.0</td>\n",
       "      <td>yes</td>\n",
       "      <td>no</td>\n",
       "      <td>cellular</td>\n",
       "      <td>19</td>\n",
       "      <td>aug</td>\n",
       "      <td>795</td>\n",
       "      <td>2.0</td>\n",
       "      <td>0</td>\n",
       "      <td>unknown</td>\n",
       "      <td>0</td>\n",
       "    </tr>\n",
       "  </tbody>\n",
       "</table>\n",
       "</div>"
      ],
      "text/plain": [
       "  customer_id  customer_age     job_type  marital  education default  balance  \\\n",
       "0    id_32289          34.0  blue-collar  married  secondary      no    934.0   \n",
       "1    id_40992          41.0  blue-collar  married    primary      no   1352.0   \n",
       "2    id_41178          57.0  blue-collar  married    primary      no    495.0   \n",
       "3    id_35102          37.0   management  married   tertiary      no    650.0   \n",
       "4    id_34750          29.0   technician  married  secondary      no    265.0   \n",
       "\n",
       "  housing_loan personal_loan communication_type  day_of_month month  \\\n",
       "0           no           yes           cellular            18   nov   \n",
       "1          yes            no           cellular            13   may   \n",
       "2           no            no           cellular            18   aug   \n",
       "3          yes           NaN            unknown            26   may   \n",
       "4          yes            no           cellular            19   aug   \n",
       "\n",
       "   last_contact_duration  num_contacts_in_campaign  \\\n",
       "0                    704                       2.0   \n",
       "1                    893                       2.0   \n",
       "2                    796                       4.0   \n",
       "3                    880                       1.0   \n",
       "4                    795                       2.0   \n",
       "\n",
       "   num_contacts_prev_campaign prev_campaign_outcome  term_deposit_subscribed  \n",
       "0                           1                 other                        0  \n",
       "1                           0               unknown                        0  \n",
       "2                           0               unknown                        1  \n",
       "3                           0               unknown                        0  \n",
       "4                           0               unknown                        0  "
      ]
     },
     "execution_count": 34,
     "metadata": {},
     "output_type": "execute_result"
    }
   ],
   "source": [
    "df.head()"
   ]
  },
  {
   "cell_type": "code",
   "execution_count": 35,
   "metadata": {
    "colab": {
     "base_uri": "https://localhost:8080/"
    },
    "id": "rLtJW3FrB9Pj",
    "outputId": "607b7f54-f7e5-4db8-f299-fff8d523a38b"
   },
   "outputs": [
    {
     "data": {
      "text/plain": [
       "customer_id                     0\n",
       "customer_age                  477\n",
       "job_type                        0\n",
       "marital                       107\n",
       "education                       0\n",
       "default                         0\n",
       "balance                       277\n",
       "housing_loan                    0\n",
       "personal_loan                 113\n",
       "communication_type              0\n",
       "day_of_month                    0\n",
       "month                           0\n",
       "last_contact_duration           0\n",
       "num_contacts_in_campaign       96\n",
       "num_contacts_prev_campaign      0\n",
       "prev_campaign_outcome           0\n",
       "term_deposit_subscribed         0\n",
       "dtype: int64"
      ]
     },
     "execution_count": 35,
     "metadata": {},
     "output_type": "execute_result"
    }
   ],
   "source": [
    "df.isnull().sum()"
   ]
  },
  {
   "cell_type": "code",
   "execution_count": 36,
   "metadata": {
    "id": "BFipdR2MDJkl"
   },
   "outputs": [],
   "source": [
    "df['marital'] = df['marital'].replace(np.NaN,'unknown')\n",
    "df['customer_age'] = df['customer_age'].replace(np.NaN,int(df['customer_age'].mean()))\n",
    "df['personal_loan'] = df['personal_loan'].replace(np.NaN,'no')"
   ]
  },
  {
   "cell_type": "code",
   "execution_count": 37,
   "metadata": {
    "colab": {
     "base_uri": "https://localhost:8080/"
    },
    "id": "DrV1b9oZDSg2",
    "outputId": "bf014371-a81e-4f9a-cc6c-dc06fcceccdd"
   },
   "outputs": [
    {
     "data": {
      "text/plain": [
       "customer_id                     0\n",
       "customer_age                    0\n",
       "job_type                        0\n",
       "marital                         0\n",
       "education                       0\n",
       "default                         0\n",
       "balance                       277\n",
       "housing_loan                    0\n",
       "personal_loan                   0\n",
       "communication_type              0\n",
       "day_of_month                    0\n",
       "month                           0\n",
       "last_contact_duration           0\n",
       "num_contacts_in_campaign       96\n",
       "num_contacts_prev_campaign      0\n",
       "prev_campaign_outcome           0\n",
       "term_deposit_subscribed         0\n",
       "dtype: int64"
      ]
     },
     "execution_count": 37,
     "metadata": {},
     "output_type": "execute_result"
    }
   ],
   "source": [
    "df.isnull().sum()"
   ]
  },
  {
   "cell_type": "code",
   "execution_count": 38,
   "metadata": {
    "colab": {
     "base_uri": "https://localhost:8080/"
    },
    "id": "DSEJxGPDRToG",
    "outputId": "4e5c2407-fa6e-421c-f160-3096cf9ab47f"
   },
   "outputs": [
    {
     "name": "stdout",
     "output_type": "stream",
     "text": [
      "[42  0]\n",
      "[88  0]\n",
      "[398   0]\n",
      "[518   0]\n",
      "[1037    0]\n",
      "[1051    0]\n",
      "[1057    0]\n",
      "[1112    0]\n",
      "[1162    0]\n",
      "[1246    0]\n",
      "[1313    0]\n",
      "[1330    0]\n",
      "[1571    0]\n",
      "[1781    0]\n",
      "[1814    0]\n",
      "[1820    0]\n",
      "[1824    0]\n",
      "[1853    0]\n",
      "[2009    0]\n",
      "[2082    0]\n",
      "[2206    0]\n",
      "[2256    0]\n",
      "[2537    0]\n",
      "[2553    0]\n",
      "[2623    0]\n",
      "[2632    0]\n",
      "[2652    0]\n",
      "[2715    0]\n",
      "[2766    0]\n",
      "[2813    0]\n",
      "[2940    0]\n",
      "[3191    0]\n",
      "[3224    0]\n",
      "[3258    0]\n",
      "[3453    0]\n",
      "[3558    0]\n",
      "[3752    0]\n",
      "[3889    0]\n",
      "[4073    0]\n",
      "[4466    0]\n",
      "[4546    0]\n",
      "[4562    0]\n",
      "[4724    0]\n",
      "[4780    0]\n",
      "[4800    0]\n",
      "[4804    0]\n",
      "[4999    0]\n",
      "[5021    0]\n",
      "[5034    0]\n",
      "[5046    0]\n",
      "[5084    0]\n",
      "[5092    0]\n",
      "[5226    0]\n",
      "[5236    0]\n",
      "[5361    0]\n",
      "[5668    0]\n",
      "[5863    0]\n",
      "[5870    0]\n",
      "[6059    0]\n",
      "[6078    0]\n",
      "[6106    0]\n",
      "[6130    0]\n",
      "[6147    0]\n",
      "[6526    0]\n",
      "[6542    0]\n",
      "[6740    0]\n",
      "[6881    0]\n",
      "[6981    0]\n",
      "[6992    0]\n",
      "[7138    0]\n",
      "[7156    0]\n",
      "[7164    0]\n",
      "[7566    0]\n",
      "[7751    0]\n",
      "[7766    0]\n",
      "[7800    0]\n",
      "[7844    0]\n",
      "[7993    0]\n",
      "[7995    0]\n",
      "[8056    0]\n",
      "[8144    0]\n",
      "[8208    0]\n",
      "[8385    0]\n",
      "[8606    0]\n",
      "[8732    0]\n",
      "[8843    0]\n",
      "[8943    0]\n",
      "[8951    0]\n",
      "[9274    0]\n",
      "[9379    0]\n",
      "[9440    0]\n",
      "[9461    0]\n",
      "[9487    0]\n",
      "[9503    0]\n",
      "[9577    0]\n",
      "[9666    0]\n",
      "[9779    0]\n",
      "[9784    0]\n",
      "[10043     0]\n",
      "[10088     0]\n",
      "[10127     0]\n",
      "[10146     0]\n",
      "[10149     0]\n",
      "[10235     0]\n",
      "[10247     0]\n",
      "[10267     0]\n",
      "[10306     0]\n",
      "[10333     0]\n",
      "[10357     0]\n",
      "[10439     0]\n",
      "[10568     0]\n",
      "[10580     0]\n",
      "[10604     0]\n",
      "[10653     0]\n",
      "[10662     0]\n",
      "[10683     0]\n",
      "[10708     0]\n",
      "[10738     0]\n",
      "[10757     0]\n",
      "[10814     0]\n",
      "[10847     0]\n",
      "[10971     0]\n",
      "[11107     0]\n",
      "[11139     0]\n",
      "[11444     0]\n",
      "[11495     0]\n",
      "[11515     0]\n",
      "[11577     0]\n",
      "[11720     0]\n",
      "[11981     0]\n",
      "[12057     0]\n",
      "[12064     0]\n",
      "[12067     0]\n",
      "[12125     0]\n",
      "[12171     0]\n",
      "[12402     0]\n",
      "[12448     0]\n",
      "[12487     0]\n",
      "[12488     0]\n",
      "[12520     0]\n",
      "[12584     0]\n",
      "[12650     0]\n",
      "[12730     0]\n",
      "[12820     0]\n",
      "[12909     0]\n",
      "[12957     0]\n",
      "[13183     0]\n",
      "[13296     0]\n",
      "[13540     0]\n",
      "[13578     0]\n",
      "[13671     0]\n",
      "[14016     0]\n",
      "[14300     0]\n",
      "[14353     0]\n",
      "[14417     0]\n",
      "[14521     0]\n",
      "[14540     0]\n",
      "[14545     0]\n",
      "[14575     0]\n",
      "[14663     0]\n",
      "[14853     0]\n",
      "[14908     0]\n",
      "[15073     0]\n",
      "[15122     0]\n",
      "[15155     0]\n",
      "[15373     0]\n",
      "[15494     0]\n",
      "[15589     0]\n",
      "[15624     0]\n",
      "[15647     0]\n",
      "[15652     0]\n",
      "[15746     0]\n",
      "[15796     0]\n",
      "[15865     0]\n",
      "[15875     0]\n",
      "[15886     0]\n",
      "[15899     0]\n",
      "[15932     0]\n",
      "[15975     0]\n",
      "[16112     0]\n",
      "[16212     0]\n",
      "[16319     0]\n",
      "[16333     0]\n",
      "[16465     0]\n",
      "[16590     0]\n",
      "[16633     0]\n",
      "[16680     0]\n",
      "[16690     0]\n",
      "[16860     0]\n",
      "[17063     0]\n",
      "[17113     0]\n",
      "[17122     0]\n",
      "[17129     0]\n",
      "[17159     0]\n",
      "[17164     0]\n",
      "[17283     0]\n",
      "[17388     0]\n",
      "[17565     0]\n",
      "[17647     0]\n",
      "[17654     0]\n",
      "[17713     0]\n",
      "[18024     0]\n",
      "[18135     0]\n",
      "[18171     0]\n",
      "[18180     0]\n",
      "[18229     0]\n",
      "[18291     0]\n",
      "[18318     0]\n",
      "[18333     0]\n",
      "[18550     0]\n",
      "[18701     0]\n",
      "[18720     0]\n",
      "[18727     0]\n",
      "[18730     0]\n",
      "[18874     0]\n",
      "[19003     0]\n",
      "[19113     0]\n",
      "[19156     0]\n",
      "[19293     0]\n",
      "[19525     0]\n",
      "[19534     0]\n",
      "[19673     0]\n",
      "[19686     0]\n",
      "[19704     0]\n",
      "[19736     0]\n",
      "[19830     0]\n",
      "[19867     0]\n",
      "[19882     0]\n",
      "[19935     0]\n",
      "[19950     0]\n",
      "[20072     0]\n",
      "[20156     0]\n",
      "[20162     0]\n",
      "[20342     0]\n",
      "[20379     0]\n",
      "[20448     0]\n",
      "[20460     0]\n",
      "[20661     0]\n",
      "[20883     0]\n",
      "[20907     0]\n",
      "[20936     0]\n",
      "[21051     0]\n",
      "[21059     0]\n",
      "[21163     0]\n",
      "[21262     0]\n",
      "[21288     0]\n",
      "[21303     0]\n",
      "[21506     0]\n",
      "[21533     0]\n",
      "[21570     0]\n",
      "[21858     0]\n",
      "[21919     0]\n",
      "[21982     0]\n",
      "[22024     0]\n",
      "[22078     0]\n",
      "[22302     0]\n",
      "[22305     0]\n",
      "[22602     0]\n",
      "[22630     0]\n",
      "[22785     0]\n",
      "[22789     0]\n",
      "[22848     0]\n",
      "[23075     0]\n",
      "[23128     0]\n",
      "[23165     0]\n",
      "[23166     0]\n",
      "[23195     0]\n",
      "[23239     0]\n",
      "[23282     0]\n",
      "[23325     0]\n",
      "[23496     0]\n",
      "[23548     0]\n",
      "[23552     0]\n",
      "[23598     0]\n",
      "[23628     0]\n",
      "[23646     0]\n",
      "[23778     0]\n"
     ]
    }
   ],
   "source": [
    "balance = df['balance'].values.reshape(len(df),1)\n",
    "result = df['term_deposit_subscribed'].values.reshape(len(df),1)\n",
    "for item in np.argwhere(np.isnan(np.concatenate((balance,result),axis=1))):\n",
    "  print(item)\n"
   ]
  },
  {
   "cell_type": "code",
   "execution_count": 39,
   "metadata": {
    "colab": {
     "base_uri": "https://localhost:8080/"
    },
    "id": "Pcf9QHZlTZ1u",
    "outputId": "baf25c55-ee2e-4464-f8d3-9f76bc76a7b1"
   },
   "outputs": [
    {
     "data": {
      "text/plain": [
       "customer_id                     0\n",
       "customer_age                    0\n",
       "job_type                        0\n",
       "marital                         0\n",
       "education                       0\n",
       "default                         0\n",
       "balance                       277\n",
       "housing_loan                    0\n",
       "personal_loan                   0\n",
       "communication_type              0\n",
       "day_of_month                    0\n",
       "month                           0\n",
       "last_contact_duration           0\n",
       "num_contacts_in_campaign       96\n",
       "num_contacts_prev_campaign      0\n",
       "prev_campaign_outcome           0\n",
       "term_deposit_subscribed         0\n",
       "dtype: int64"
      ]
     },
     "execution_count": 39,
     "metadata": {},
     "output_type": "execute_result"
    }
   ],
   "source": [
    "df.isnull().sum()"
   ]
  },
  {
   "cell_type": "code",
   "execution_count": 40,
   "metadata": {
    "id": "xdxapTiLEMI7"
   },
   "outputs": [],
   "source": [
    "num = df['num_contacts_in_campaign'].values.reshape(len(df),1)\n",
    "prev = df['num_contacts_prev_campaign'].values.reshape(len(df),1)"
   ]
  },
  {
   "cell_type": "code",
   "execution_count": 41,
   "metadata": {
    "colab": {
     "base_uri": "https://localhost:8080/"
    },
    "id": "Mr78xQgBGLlO",
    "outputId": "71f6d002-8d06-4515-da2d-bf1abeb64bd3"
   },
   "outputs": [
    {
     "name": "stdout",
     "output_type": "stream",
     "text": [
      "{101: 2.0, 1071: 2.0, 1401: 4.0, 1808: 1.0, 1891: 2.0, 2246: 2.0, 2649: 2.0, 2772: 1.0, 2810: 6.0, 3156: 1.0, 3405: 1.0, 4109: 1.0, 4271: 1.0, 4337: 1.0, 4396: 1.0, 4465: 2.0, 4536: 2.0, 4734: 2.0, 5097: 1.0, 5213: 3.0, 5383: 3.0, 5598: 1.0, 5830: 2.0, 6185: 5.0, 6855: 2.0, 7366: 1.0, 7763: 2.0, 8659: 8.0, 8860: 3.0, 9269: 10.0, 9351: 6.0, 9685: 2.0, 9719: 5.0, 10098: 17.0, 10319: 1.0, 10480: 4.0, 10566: 1.0, 11640: 1.0, 11843: 2.0, 11865: 2.0, 11957: 3.0, 12017: 2.0, 12157: 1.0, 12217: 2.0, 12632: 1.0, 13182: 13.0, 13495: 30.0, 13808: 2.0, 13857: 1.0, 14753: 4.0, 14842: 2.0, 15603: 2.0, 15698: 2.0, 15892: 2.0, 15934: 1.0, 16095: 5.0, 16208: 2.0, 16250: 2.0, 16451: 1.0, 16578: 2.0, 16613: 2.0, 16664: 2.0, 16926: 1.0, 16975: 13.0, 17640: 2.0, 17827: 1.0, 17902: 6.0, 17927: 2.0, 18001: 6.0, 18442: 2.0, 19127: 1.0, 19658: 2.0, 19748: 4.0, 19761: 1.0, 19906: 2.0, 20077: 4.0, 20100: 4.0, 20195: 1.0, 20322: 2.0, 20529: 1.0, 20690: 4.0, 20833: 1.0, 20892: 1.0, 20966: 2.0, 21149: 10.0, 21285: 1.0, 21555: 2.0, 21623: 1.0, 21668: 1.0, 22117: 2.0, 22243: 1.0, 22554: 2.0, 22821: 1.0, 22963: 2.0, 23078: 11.0, 23345: 4.0}\n"
     ]
    }
   ],
   "source": [
    "index = []\n",
    "for i in np.argwhere(np.isnan(np.concatenate((num,prev),axis=1))):\n",
    "  index.append(i[0])\n",
    "\n",
    "con = np.concatenate((num,prev),axis=1)\n",
    "for i in index:\n",
    "  con[i][0] = con[i][1]\n",
    "  # print(con[i])\n",
    "dic = {}\n",
    "for i in range(0,len(index)):\n",
    "  dic[index[i]] = con[i][0]\n",
    "\n",
    "print(dic)\n"
   ]
  },
  {
   "cell_type": "code",
   "execution_count": 42,
   "metadata": {
    "id": "3oJj6bteNvjv"
   },
   "outputs": [],
   "source": [
    "n = df['num_contacts_in_campaign'].values\n",
    "\n",
    "for i in range(0,len(n)):\n",
    "  if i in dic:\n",
    "    n[i] = dic[i]\n",
    "\n",
    "df['num_contacts_in_campaign'] = pd.Series(n)"
   ]
  },
  {
   "cell_type": "code",
   "execution_count": 43,
   "metadata": {
    "colab": {
     "base_uri": "https://localhost:8080/"
    },
    "id": "a22FMRRw3OMO",
    "outputId": "26639501-d600-46ca-fd38-555022a96f20"
   },
   "outputs": [
    {
     "data": {
      "text/plain": [
       "customer_id                     0\n",
       "customer_age                    0\n",
       "job_type                        0\n",
       "marital                         0\n",
       "education                       0\n",
       "default                         0\n",
       "balance                       277\n",
       "housing_loan                    0\n",
       "personal_loan                   0\n",
       "communication_type              0\n",
       "day_of_month                    0\n",
       "month                           0\n",
       "last_contact_duration           0\n",
       "num_contacts_in_campaign        0\n",
       "num_contacts_prev_campaign      0\n",
       "prev_campaign_outcome           0\n",
       "term_deposit_subscribed         0\n",
       "dtype: int64"
      ]
     },
     "execution_count": 43,
     "metadata": {},
     "output_type": "execute_result"
    }
   ],
   "source": [
    "df.isnull().sum()"
   ]
  },
  {
   "cell_type": "code",
   "execution_count": 44,
   "metadata": {
    "id": "EA1ekvVi3St3"
   },
   "outputs": [],
   "source": [
    "df = df.dropna()"
   ]
  },
  {
   "cell_type": "code",
   "execution_count": 45,
   "metadata": {
    "id": "4lNLW9ENUekJ"
   },
   "outputs": [],
   "source": [
    "df3 = df"
   ]
  },
  {
   "cell_type": "code",
   "execution_count": 46,
   "metadata": {
    "colab": {
     "base_uri": "https://localhost:8080/",
     "height": 268
    },
    "id": "EacnJWOg58CV",
    "outputId": "4e8c7f11-d140-481e-b44d-638411efe282"
   },
   "outputs": [
    {
     "data": {
      "text/html": [
       "<div>\n",
       "<style scoped>\n",
       "    .dataframe tbody tr th:only-of-type {\n",
       "        vertical-align: middle;\n",
       "    }\n",
       "\n",
       "    .dataframe tbody tr th {\n",
       "        vertical-align: top;\n",
       "    }\n",
       "\n",
       "    .dataframe thead th {\n",
       "        text-align: right;\n",
       "    }\n",
       "</style>\n",
       "<table border=\"1\" class=\"dataframe\">\n",
       "  <thead>\n",
       "    <tr style=\"text-align: right;\">\n",
       "      <th></th>\n",
       "      <th>customer_id</th>\n",
       "      <th>customer_age</th>\n",
       "      <th>job_type</th>\n",
       "      <th>marital</th>\n",
       "      <th>education</th>\n",
       "      <th>default</th>\n",
       "      <th>balance</th>\n",
       "      <th>housing_loan</th>\n",
       "      <th>personal_loan</th>\n",
       "      <th>communication_type</th>\n",
       "      <th>day_of_month</th>\n",
       "      <th>month</th>\n",
       "      <th>last_contact_duration</th>\n",
       "      <th>num_contacts_in_campaign</th>\n",
       "      <th>num_contacts_prev_campaign</th>\n",
       "      <th>prev_campaign_outcome</th>\n",
       "      <th>term_deposit_subscribed</th>\n",
       "    </tr>\n",
       "  </thead>\n",
       "  <tbody>\n",
       "    <tr>\n",
       "      <th>0</th>\n",
       "      <td>id_32289</td>\n",
       "      <td>34.0</td>\n",
       "      <td>blue-collar</td>\n",
       "      <td>married</td>\n",
       "      <td>secondary</td>\n",
       "      <td>no</td>\n",
       "      <td>934.0</td>\n",
       "      <td>no</td>\n",
       "      <td>yes</td>\n",
       "      <td>cellular</td>\n",
       "      <td>18</td>\n",
       "      <td>nov</td>\n",
       "      <td>704</td>\n",
       "      <td>2.0</td>\n",
       "      <td>1</td>\n",
       "      <td>other</td>\n",
       "      <td>0</td>\n",
       "    </tr>\n",
       "    <tr>\n",
       "      <th>1</th>\n",
       "      <td>id_40992</td>\n",
       "      <td>41.0</td>\n",
       "      <td>blue-collar</td>\n",
       "      <td>married</td>\n",
       "      <td>primary</td>\n",
       "      <td>no</td>\n",
       "      <td>1352.0</td>\n",
       "      <td>yes</td>\n",
       "      <td>no</td>\n",
       "      <td>cellular</td>\n",
       "      <td>13</td>\n",
       "      <td>may</td>\n",
       "      <td>893</td>\n",
       "      <td>2.0</td>\n",
       "      <td>0</td>\n",
       "      <td>unknown</td>\n",
       "      <td>0</td>\n",
       "    </tr>\n",
       "    <tr>\n",
       "      <th>2</th>\n",
       "      <td>id_41178</td>\n",
       "      <td>57.0</td>\n",
       "      <td>blue-collar</td>\n",
       "      <td>married</td>\n",
       "      <td>primary</td>\n",
       "      <td>no</td>\n",
       "      <td>495.0</td>\n",
       "      <td>no</td>\n",
       "      <td>no</td>\n",
       "      <td>cellular</td>\n",
       "      <td>18</td>\n",
       "      <td>aug</td>\n",
       "      <td>796</td>\n",
       "      <td>4.0</td>\n",
       "      <td>0</td>\n",
       "      <td>unknown</td>\n",
       "      <td>1</td>\n",
       "    </tr>\n",
       "    <tr>\n",
       "      <th>3</th>\n",
       "      <td>id_35102</td>\n",
       "      <td>37.0</td>\n",
       "      <td>management</td>\n",
       "      <td>married</td>\n",
       "      <td>tertiary</td>\n",
       "      <td>no</td>\n",
       "      <td>650.0</td>\n",
       "      <td>yes</td>\n",
       "      <td>no</td>\n",
       "      <td>unknown</td>\n",
       "      <td>26</td>\n",
       "      <td>may</td>\n",
       "      <td>880</td>\n",
       "      <td>1.0</td>\n",
       "      <td>0</td>\n",
       "      <td>unknown</td>\n",
       "      <td>0</td>\n",
       "    </tr>\n",
       "    <tr>\n",
       "      <th>4</th>\n",
       "      <td>id_34750</td>\n",
       "      <td>29.0</td>\n",
       "      <td>technician</td>\n",
       "      <td>married</td>\n",
       "      <td>secondary</td>\n",
       "      <td>no</td>\n",
       "      <td>265.0</td>\n",
       "      <td>yes</td>\n",
       "      <td>no</td>\n",
       "      <td>cellular</td>\n",
       "      <td>19</td>\n",
       "      <td>aug</td>\n",
       "      <td>795</td>\n",
       "      <td>2.0</td>\n",
       "      <td>0</td>\n",
       "      <td>unknown</td>\n",
       "      <td>0</td>\n",
       "    </tr>\n",
       "  </tbody>\n",
       "</table>\n",
       "</div>"
      ],
      "text/plain": [
       "  customer_id  customer_age     job_type  marital  education default  balance  \\\n",
       "0    id_32289          34.0  blue-collar  married  secondary      no    934.0   \n",
       "1    id_40992          41.0  blue-collar  married    primary      no   1352.0   \n",
       "2    id_41178          57.0  blue-collar  married    primary      no    495.0   \n",
       "3    id_35102          37.0   management  married   tertiary      no    650.0   \n",
       "4    id_34750          29.0   technician  married  secondary      no    265.0   \n",
       "\n",
       "  housing_loan personal_loan communication_type  day_of_month month  \\\n",
       "0           no           yes           cellular            18   nov   \n",
       "1          yes            no           cellular            13   may   \n",
       "2           no            no           cellular            18   aug   \n",
       "3          yes            no            unknown            26   may   \n",
       "4          yes            no           cellular            19   aug   \n",
       "\n",
       "   last_contact_duration  num_contacts_in_campaign  \\\n",
       "0                    704                       2.0   \n",
       "1                    893                       2.0   \n",
       "2                    796                       4.0   \n",
       "3                    880                       1.0   \n",
       "4                    795                       2.0   \n",
       "\n",
       "   num_contacts_prev_campaign prev_campaign_outcome  term_deposit_subscribed  \n",
       "0                           1                 other                        0  \n",
       "1                           0               unknown                        0  \n",
       "2                           0               unknown                        1  \n",
       "3                           0               unknown                        0  \n",
       "4                           0               unknown                        0  "
      ]
     },
     "execution_count": 46,
     "metadata": {},
     "output_type": "execute_result"
    }
   ],
   "source": [
    "df.head()"
   ]
  },
  {
   "cell_type": "code",
   "execution_count": 47,
   "metadata": {
    "colab": {
     "base_uri": "https://localhost:8080/"
    },
    "id": "zNLDDzR96BS6",
    "outputId": "f5372b1a-211a-4760-b1a7-c8a69908c285"
   },
   "outputs": [
    {
     "data": {
      "text/plain": [
       "Index(['customer_id', 'customer_age', 'job_type', 'marital', 'education',\n",
       "       'default', 'balance', 'housing_loan', 'personal_loan',\n",
       "       'communication_type', 'day_of_month', 'month', 'last_contact_duration',\n",
       "       'num_contacts_in_campaign', 'num_contacts_prev_campaign',\n",
       "       'prev_campaign_outcome', 'term_deposit_subscribed'],\n",
       "      dtype='object')"
      ]
     },
     "execution_count": 47,
     "metadata": {},
     "output_type": "execute_result"
    }
   ],
   "source": [
    "df.columns"
   ]
  },
  {
   "cell_type": "code",
   "execution_count": 48,
   "metadata": {
    "id": "eD2esuSV3qPQ"
   },
   "outputs": [],
   "source": [
    "df3 = df3.sort_values(by='balance')"
   ]
  },
  {
   "cell_type": "code",
   "execution_count": 49,
   "metadata": {
    "colab": {
     "base_uri": "https://localhost:8080/"
    },
    "id": "Fw-MjI6l4kzo",
    "outputId": "4082e2c2-44ca-4a46-89e1-e3b9c5e8cead"
   },
   "outputs": [
    {
     "name": "stdout",
     "output_type": "stream",
     "text": [
      "2960\n"
     ]
    }
   ],
   "source": [
    "count = 0\n",
    "for item in df3['balance'].values:\n",
    "  if item < 0 :\n",
    "    count = count +1\n",
    "\n",
    "print(count)"
   ]
  },
  {
   "cell_type": "code",
   "execution_count": 50,
   "metadata": {
    "colab": {
     "base_uri": "https://localhost:8080/"
    },
    "id": "uham7xNk5BcP",
    "outputId": "cdd86b73-0de6-4561-b0c0-efa558a8fba8"
   },
   "outputs": [
    {
     "name": "stdout",
     "output_type": "stream",
     "text": [
      "(-3060.0, 1)\n",
      "(-1206.0, 1)\n",
      "(-1047.0, 1)\n",
      "(-927.0, 1)\n",
      "(-838.0, 1)\n",
      "(-798.0, 1)\n",
      "(-778.0, 1)\n",
      "(-766.0, 1)\n",
      "(-750.0, 1)\n",
      "(-721.0, 1)\n",
      "(-635.0, 1)\n",
      "(-627.0, 1)\n",
      "(-560.0, 1)\n",
      "(-557.0, 1)\n",
      "(-537.0, 1)\n",
      "(-531.0, 1)\n",
      "(-524.0, 1)\n",
      "(-524.0, 1)\n",
      "(-524.0, 1)\n",
      "(-524.0, 1)\n",
      "(-523.0, 1)\n",
      "(-483.0, 1)\n",
      "(-475.0, 1)\n",
      "(-470.0, 1)\n",
      "(-468.0, 1)\n",
      "(-456.0, 1)\n",
      "(-456.0, 1)\n",
      "(-451.0, 1)\n",
      "(-443.0, 1)\n",
      "(-404.0, 1)\n",
      "(-397.0, 1)\n",
      "(-397.0, 1)\n",
      "(-384.0, 1)\n",
      "(-380.0, 1)\n",
      "(-379.0, 1)\n",
      "(-376.0, 1)\n",
      "(-372.0, 1)\n",
      "(-369.0, 1)\n",
      "(-318.0, 1)\n",
      "(-312.0, 1)\n",
      "(-306.0, 1)\n",
      "(-302.0, 1)\n",
      "(-278.0, 1)\n",
      "(-277.0, 1)\n",
      "(-274.0, 1)\n",
      "(-271.0, 1)\n",
      "(-264.0, 1)\n",
      "(-264.0, 1)\n",
      "(-256.0, 1)\n",
      "(-247.0, 1)\n",
      "(-247.0, 1)\n",
      "(-246.0, 1)\n",
      "(-245.0, 1)\n",
      "(-244.0, 1)\n",
      "(-241.0, 1)\n",
      "(-213.0, 1)\n",
      "(-212.0, 1)\n",
      "(-204.0, 1)\n",
      "(-202.0, 1)\n",
      "(-200.0, 1)\n",
      "(-194.0, 1)\n",
      "(-191.0, 1)\n",
      "(-189.0, 1)\n",
      "(-187.0, 1)\n",
      "(-173.0, 1)\n",
      "(-168.0, 1)\n",
      "(-161.0, 1)\n",
      "(-149.0, 1)\n",
      "(-108.0, 1)\n",
      "(-107.0, 1)\n",
      "(-107.0, 1)\n",
      "(-105.0, 1)\n",
      "(-97.0, 1)\n",
      "(-94.0, 1)\n",
      "(-93.0, 1)\n",
      "(-92.0, 1)\n",
      "(-90.0, 1)\n",
      "(-84.0, 1)\n",
      "(-84.0, 1)\n",
      "(-65.0, 1)\n",
      "(-59.0, 1)\n",
      "(-52.0, 1)\n",
      "(-52.0, 1)\n",
      "(-51.0, 1)\n",
      "(-50.0, 1)\n",
      "(-45.0, 1)\n",
      "(-44.0, 1)\n",
      "(-40.0, 1)\n",
      "(-39.0, 1)\n",
      "(-38.0, 1)\n",
      "(-36.0, 1)\n",
      "(-35.0, 1)\n",
      "(-34.0, 1)\n",
      "(-33.0, 1)\n",
      "(-31.0, 1)\n",
      "(-25.0, 1)\n",
      "(-25.0, 1)\n",
      "(-22.0, 1)\n",
      "(-22.0, 1)\n",
      "(-20.0, 1)\n",
      "(-15.0, 1)\n",
      "(-14.0, 1)\n",
      "(-6.0, 1)\n",
      "(-6.0, 1)\n",
      "(-5.0, 1)\n",
      "(-5.0, 1)\n",
      "(-5.0, 1)\n",
      "(-5.0, 1)\n",
      "(-5.0, 1)\n",
      "(-5.0, 1)\n",
      "(-5.0, 1)\n",
      "(-5.0, 1)\n",
      "(-5.0, 1)\n",
      "(-5.0, 1)\n",
      "(-5.0, 1)\n",
      "(-5.0, 1)\n",
      "(-5.0, 1)\n",
      "(-5.0, 1)\n",
      "(-5.0, 1)\n",
      "(-4.0, 1)\n",
      "(-4.0, 1)\n",
      "(-4.0, 1)\n",
      "(-4.0, 1)\n",
      "(-4.0, 1)\n",
      "(-4.0, 1)\n",
      "(-4.0, 1)\n",
      "(-4.0, 1)\n",
      "(-4.0, 1)\n",
      "(-4.0, 1)\n",
      "(-4.0, 1)\n",
      "(-4.0, 1)\n",
      "(-4.0, 1)\n",
      "(-4.0, 1)\n",
      "(-4.0, 1)\n",
      "(-4.0, 1)\n",
      "(-3.0, 1)\n",
      "(-3.0, 1)\n",
      "(-3.0, 1)\n",
      "(-3.0, 1)\n",
      "(-3.0, 1)\n",
      "(-3.0, 1)\n",
      "(-3.0, 1)\n",
      "(-3.0, 1)\n",
      "(-3.0, 1)\n",
      "(-3.0, 1)\n",
      "(-3.0, 1)\n",
      "(-3.0, 1)\n",
      "(-3.0, 1)\n",
      "(-3.0, 1)\n",
      "(-3.0, 1)\n",
      "(-3.0, 1)\n",
      "(-3.0, 1)\n",
      "(-3.0, 1)\n",
      "(-3.0, 1)\n",
      "(-2.0, 1)\n",
      "(-2.0, 1)\n",
      "(-2.0, 1)\n",
      "(-2.0, 1)\n",
      "(-2.0, 1)\n",
      "(-2.0, 1)\n",
      "(-2.0, 1)\n",
      "(-2.0, 1)\n",
      "(-2.0, 1)\n",
      "(-2.0, 1)\n",
      "(-2.0, 1)\n",
      "(-2.0, 1)\n",
      "(-2.0, 1)\n",
      "(-2.0, 1)\n",
      "(-2.0, 1)\n",
      "(-2.0, 1)\n",
      "(-2.0, 1)\n",
      "(-2.0, 1)\n",
      "(-1.0, 1)\n",
      "(-1.0, 1)\n",
      "(-1.0, 1)\n",
      "(-1.0, 1)\n",
      "(-1.0, 1)\n",
      "(-1.0, 1)\n",
      "(-1.0, 1)\n",
      "(-1.0, 1)\n",
      "(-1.0, 1)\n",
      "(-1.0, 1)\n"
     ]
    }
   ],
   "source": [
    "i = 0\n",
    "for item in zip(df3['balance'].values,df3['term_deposit_subscribed'].values):\n",
    "  if i < 2960:\n",
    "    if item[1] == 1:\n",
    "      print(item)\n",
    "    i = i+1\n",
    "  if i == 2960:\n",
    "    break\n"
   ]
  },
  {
   "cell_type": "code",
   "execution_count": 51,
   "metadata": {
    "id": "xhmpvMc96ne5"
   },
   "outputs": [],
   "source": [
    "X = df.iloc[:,1:-1].values\n",
    "y = df.iloc[:,-1].values"
   ]
  },
  {
   "cell_type": "code",
   "execution_count": 52,
   "metadata": {
    "colab": {
     "base_uri": "https://localhost:8080/"
    },
    "id": "DHI4OviT60Wz",
    "outputId": "29dbd135-f50b-42f3-c554-b770da9159c9"
   },
   "outputs": [
    {
     "name": "stdout",
     "output_type": "stream",
     "text": [
      "[[34.0 'blue-collar' 'married' ... 2.0 1 'other']\n",
      " [41.0 'blue-collar' 'married' ... 2.0 0 'unknown']\n",
      " [57.0 'blue-collar' 'married' ... 4.0 0 'unknown']\n",
      " ...\n",
      " [41.0 'unemployed' 'married' ... 2.0 0 'unknown']\n",
      " [48.0 'services' 'married' ... 6.0 0 'unknown']\n",
      " [38.0 'technician' 'single' ... 10.0 0 'unknown']]\n"
     ]
    }
   ],
   "source": [
    "print(X)"
   ]
  },
  {
   "cell_type": "code",
   "execution_count": 53,
   "metadata": {
    "colab": {
     "base_uri": "https://localhost:8080/"
    },
    "id": "U3FwlKDW65qV",
    "outputId": "f7825985-8686-4d5f-84af-92cfeae45ec4"
   },
   "outputs": [
    {
     "name": "stdout",
     "output_type": "stream",
     "text": [
      "[0 0 1 ... 0 0 0]\n"
     ]
    }
   ],
   "source": [
    "print(y)"
   ]
  },
  {
   "cell_type": "code",
   "execution_count": 54,
   "metadata": {
    "colab": {
     "base_uri": "https://localhost:8080/"
    },
    "id": "x9U9RQEW7vvj",
    "outputId": "022f72e2-a940-46f6-89d9-edddc5dc5a1c"
   },
   "outputs": [
    {
     "data": {
      "text/plain": [
       "Index(['customer_id', 'customer_age', 'job_type', 'marital', 'education',\n",
       "       'default', 'balance', 'housing_loan', 'personal_loan',\n",
       "       'communication_type', 'day_of_month', 'month', 'last_contact_duration',\n",
       "       'num_contacts_in_campaign', 'num_contacts_prev_campaign',\n",
       "       'prev_campaign_outcome', 'term_deposit_subscribed'],\n",
       "      dtype='object')"
      ]
     },
     "execution_count": 54,
     "metadata": {},
     "output_type": "execute_result"
    }
   ],
   "source": [
    "df.columns"
   ]
  },
  {
   "cell_type": "code",
   "execution_count": 55,
   "metadata": {
    "colab": {
     "base_uri": "https://localhost:8080/"
    },
    "id": "u7_Y7sm88K5n",
    "outputId": "e73b6a64-1b2e-4f65-be10-c20315be71c0"
   },
   "outputs": [
    {
     "name": "stdout",
     "output_type": "stream",
     "text": [
      "blue-collar      5105\n",
      "management       4957\n",
      "technician       3924\n",
      "admin.           2683\n",
      "services         2204\n",
      "retired          1156\n",
      "self-employed     838\n",
      "entrepreneur      767\n",
      "unemployed        667\n",
      "housemaid         652\n",
      "student           496\n",
      "unknown           154\n",
      "Name: job_type, dtype: int64\n",
      "\n",
      "married     14098\n",
      "single       6635\n",
      "divorced     2767\n",
      "unknown       103\n",
      "Name: marital, dtype: int64\n",
      "\n",
      "secondary    12181\n",
      "tertiary      6923\n",
      "primary       3528\n",
      "unknown        971\n",
      "Name: education, dtype: int64\n",
      "\n",
      "yes    13207\n",
      "no     10396\n",
      "Name: housing_loan, dtype: int64\n",
      "\n",
      "no     19883\n",
      "yes     3720\n",
      "Name: personal_loan, dtype: int64\n",
      "\n",
      "20    1424\n",
      "18    1214\n",
      "21    1049\n",
      "6     1024\n",
      "17    1020\n",
      "5      985\n",
      "7      962\n",
      "14     950\n",
      "8      946\n",
      "28     925\n",
      "19     917\n",
      "29     912\n",
      "15     891\n",
      "12     847\n",
      "30     823\n",
      "11     815\n",
      "9      810\n",
      "13     807\n",
      "4      755\n",
      "16     744\n",
      "2      635\n",
      "3      591\n",
      "27     575\n",
      "26     531\n",
      "23     506\n",
      "22     484\n",
      "25     431\n",
      "31     354\n",
      "10     261\n",
      "24     236\n",
      "1      179\n",
      "Name: day_of_month, dtype: int64\n",
      "\n",
      "unknown    19288\n",
      "failure     2586\n",
      "other        931\n",
      "success      798\n",
      "Name: prev_campaign_outcome, dtype: int64\n",
      "\n",
      "0    21088\n",
      "1     2515\n",
      "Name: term_deposit_subscribed, dtype: int64\n",
      "\n"
     ]
    }
   ],
   "source": [
    "for item in df3.columns[2:]:\n",
    "  if item not in ['default','balance','communication_type','month',\n",
    "                  'last_contact_duration','num_contacts_in_campaign','num_contacts_prev_campaign'] :\n",
    "    print(df3[item].value_counts())\n",
    "    print()"
   ]
  },
  {
   "cell_type": "code",
   "execution_count": 56,
   "metadata": {
    "colab": {
     "base_uri": "https://localhost:8080/"
    },
    "id": "gikTrI_n-czE",
    "outputId": "e9c76bbe-d99d-4e78-f39f-25c32f5483be"
   },
   "outputs": [
    {
     "name": "stdout",
     "output_type": "stream",
     "text": [
      "term_deposit_subscribed     0    1\n",
      "job_type                          \n",
      "admin.                   2406  277\n",
      "blue-collar              4773  332\n",
      "entrepreneur              705   62\n",
      "housemaid                 604   48\n",
      "management               4349  608\n",
      "retired                   902  254\n",
      "self-employed             738  100\n",
      "services                 2022  182\n",
      "student                   359  137\n",
      "technician               3531  393\n",
      "unemployed                564  103\n",
      "unknown                   135   19\n",
      "\n",
      "term_deposit_subscribed      0     1\n",
      "marital                             \n",
      "divorced                  2476   291\n",
      "married                  12789  1309\n",
      "single                    5728   907\n",
      "unknown                     95     8\n",
      "\n",
      "term_deposit_subscribed      0     1\n",
      "education                           \n",
      "primary                   3248   280\n",
      "secondary                11023  1158\n",
      "tertiary                  5967   956\n",
      "unknown                    850   121\n",
      "\n",
      "term_deposit_subscribed      0     1\n",
      "housing_loan                        \n",
      "no                        8778  1618\n",
      "yes                      12310   897\n",
      "\n",
      "term_deposit_subscribed      0     1\n",
      "personal_loan                       \n",
      "no                       17583  2300\n",
      "yes                       3505   215\n",
      "\n",
      "term_deposit_subscribed     0    1\n",
      "day_of_month                      \n",
      "1                         132   47\n",
      "2                         545   90\n",
      "3                         492   99\n",
      "4                         657   98\n",
      "5                         877  108\n",
      "6                         943   81\n",
      "7                         888   74\n",
      "8                         862   84\n",
      "9                         719   91\n",
      "10                        205   56\n",
      "11                        726   89\n",
      "12                        736  111\n",
      "13                        694  113\n",
      "14                        862   88\n",
      "15                        776  115\n",
      "16                        649   95\n",
      "17                        934   86\n",
      "18                       1108  106\n",
      "19                        869   48\n",
      "20                       1328   96\n",
      "21                        954   95\n",
      "22                        408   76\n",
      "23                        454   52\n",
      "24                        212   24\n",
      "25                        369   62\n",
      "26                        473   58\n",
      "27                        494   81\n",
      "28                        866   59\n",
      "29                        847   65\n",
      "30                        681  142\n",
      "31                        328   26\n",
      "\n",
      "term_deposit_subscribed     0    1\n",
      "month                             \n",
      "apr                      1281  274\n",
      "aug                      2911  313\n",
      "dec                        62   48\n",
      "feb                      1154  211\n",
      "jan                       652   67\n",
      "jul                      3291  276\n",
      "jun                      2526  255\n",
      "mar                       125  135\n",
      "may                      6816  426\n",
      "nov                      1892  192\n",
      "oct                       218  165\n",
      "sep                       160  153\n",
      "\n",
      "term_deposit_subscribed      0     1\n",
      "prev_campaign_outcome               \n",
      "failure                   2299   287\n",
      "other                      794   137\n",
      "success                    263   535\n",
      "unknown                  17732  1556\n",
      "\n"
     ]
    }
   ],
   "source": [
    "\n",
    "for item in df3.columns[2:]:\n",
    "  if item not in ['default','balance','communication_type',\n",
    "                  'last_contact_duration','num_contacts_in_campaign',\n",
    "                  'num_contacts_prev_campaign','term_deposit_subscribed'] :\n",
    "    print(pd.crosstab(df3[item],df3['term_deposit_subscribed']))\n",
    "    print()"
   ]
  },
  {
   "cell_type": "code",
   "execution_count": 57,
   "metadata": {
    "colab": {
     "base_uri": "https://localhost:8080/"
    },
    "id": "9tyUOAOw8cSA",
    "outputId": "ade0d77f-1e02-40c4-bde3-8af2d6cc66ee"
   },
   "outputs": [
    {
     "data": {
      "text/plain": [
       "secondary    12181\n",
       "tertiary      6923\n",
       "primary       3528\n",
       "unknown        971\n",
       "Name: education, dtype: int64"
      ]
     },
     "execution_count": 57,
     "metadata": {},
     "output_type": "execute_result"
    }
   ],
   "source": [
    "df3['education'].value_counts()"
   ]
  },
  {
   "cell_type": "code",
   "execution_count": 58,
   "metadata": {
    "colab": {
     "base_uri": "https://localhost:8080/"
    },
    "id": "hIv6Vq048tbj",
    "outputId": "b149fe13-5027-4ef2-9d10-48d9fd4093ff"
   },
   "outputs": [
    {
     "data": {
      "text/plain": [
       "may    7242\n",
       "jul    3567\n",
       "aug    3224\n",
       "jun    2781\n",
       "nov    2084\n",
       "apr    1555\n",
       "feb    1365\n",
       "jan     719\n",
       "oct     383\n",
       "sep     313\n",
       "mar     260\n",
       "dec     110\n",
       "Name: month, dtype: int64"
      ]
     },
     "execution_count": 58,
     "metadata": {},
     "output_type": "execute_result"
    }
   ],
   "source": [
    "df3['month'].value_counts()"
   ]
  },
  {
   "cell_type": "code",
   "execution_count": null,
   "metadata": {
    "id": "_szP0Rp588dS"
   },
   "outputs": [],
   "source": []
  }
 ],
 "metadata": {
  "colab": {
   "collapsed_sections": [],
   "name": "Copy of term.ipynb",
   "provenance": []
  },
  "kernelspec": {
   "display_name": "Python 3 (ipykernel)",
   "language": "python",
   "name": "python3"
  },
  "language_info": {
   "codemirror_mode": {
    "name": "ipython",
    "version": 3
   },
   "file_extension": ".py",
   "mimetype": "text/x-python",
   "name": "python",
   "nbconvert_exporter": "python",
   "pygments_lexer": "ipython3",
   "version": "3.9.7"
  }
 },
 "nbformat": 4,
 "nbformat_minor": 1
}
